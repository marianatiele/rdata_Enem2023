{
  "nbformat": 4,
  "nbformat_minor": 0,
  "metadata": {
    "colab": {
      "provenance": [],
      "mount_file_id": "1Dqsv4lkC6INrGf_iM25tUoqvJHH7nEFC",
      "authorship_tag": "ABX9TyOTBlG3eNa7cmA1qHo6n61p",
      "include_colab_link": true
    },
    "kernelspec": {
      "name": "python3",
      "display_name": "Python 3"
    },
    "language_info": {
      "name": "python"
    }
  },
  "cells": [
    {
      "cell_type": "markdown",
      "metadata": {
        "id": "view-in-github",
        "colab_type": "text"
      },
      "source": [
        "<a href=\"https://colab.research.google.com/github/marianatiele/rdata_Enem2023/blob/main/ETL_ENEM2023_2.ipynb\" target=\"_parent\"><img src=\"https://colab.research.google.com/assets/colab-badge.svg\" alt=\"Open In Colab\"/></a>"
      ]
    },
    {
      "cell_type": "markdown",
      "source": [
        "##Link da Base de Dados\n",
        "- [Dados Abertos - Sisu Chamada Regular 2023.2](https://dadosabertos.mec.gov.br/images/conteudo/sisu/2023/chamada_regular_sisu_2023_2.csv)"
      ],
      "metadata": {
        "id": "XwAFk-URLLEn"
      }
    },
    {
      "cell_type": "markdown",
      "source": [
        "## Criando o Ambiente PySpark"
      ],
      "metadata": {
        "id": "0zfJx05WLu2a"
      }
    },
    {
      "cell_type": "code",
      "source": [
        "!apt-get update -qq\n",
        "!apt-get install openjdk-8-jdk-headless -qq > /dev/null  # Instalação do Java\n",
        "\n",
        "# Baixar a versão do Spark desejada (Spark 3.5.4 com Hadoop 3)\n",
        "!wget -q https://archive.apache.org/dist/spark/spark-3.5.4/spark-3.5.4-bin-hadoop3.tgz\n",
        "\n",
        "# Extrair os arquivos do Spark\n",
        "!tar xf spark-3.5.4-bin-hadoop3.tgz\n"
      ],
      "metadata": {
        "colab": {
          "base_uri": "https://localhost:8080/"
        },
        "id": "5Y6VMaf8hgfJ",
        "outputId": "4d90342c-099a-4945-b901-a945c43cd060"
      },
      "execution_count": null,
      "outputs": [
        {
          "output_type": "stream",
          "name": "stdout",
          "text": [
            "W: Skipping acquire of configured file 'main/source/Sources' as repository 'https://r2u.stat.illinois.edu/ubuntu jammy InRelease' does not seem to provide it (sources.list entry misspelt?)\n"
          ]
        }
      ]
    },
    {
      "cell_type": "code",
      "source": [
        "# Variáveis de ambiente\n",
        "\n",
        "import os\n",
        "os.environ[\"JAVA_HOME\"] = \"/usr/lib/jvm/java-8-openjdk-amd64\"\n",
        "os.environ[\"SPARK_HOME\"] = \"/content/spark-3.5.4-bin-hadoop3\""
      ],
      "metadata": {
        "id": "cXHtsbWPiATi"
      },
      "execution_count": null,
      "outputs": []
    },
    {
      "cell_type": "code",
      "source": [
        "!pip install findspark"
      ],
      "metadata": {
        "colab": {
          "base_uri": "https://localhost:8080/"
        },
        "id": "wfDKYlz9iH-O",
        "outputId": "e8489e53-bab8-4148-b01b-6c85d3a30d22"
      },
      "execution_count": null,
      "outputs": [
        {
          "output_type": "stream",
          "name": "stdout",
          "text": [
            "Collecting findspark\n",
            "  Downloading findspark-2.0.1-py2.py3-none-any.whl.metadata (352 bytes)\n",
            "Downloading findspark-2.0.1-py2.py3-none-any.whl (4.4 kB)\n",
            "Installing collected packages: findspark\n",
            "Successfully installed findspark-2.0.1\n"
          ]
        }
      ]
    },
    {
      "cell_type": "code",
      "source": [
        "import findspark\n",
        "findspark.init()"
      ],
      "metadata": {
        "id": "EEAkL6ywiK_8"
      },
      "execution_count": null,
      "outputs": []
    },
    {
      "cell_type": "code",
      "source": [
        "!pip install pyngrok\n",
        "from pyngrok import ngrok"
      ],
      "metadata": {
        "colab": {
          "base_uri": "https://localhost:8080/"
        },
        "id": "eDpRC5PEiWcK",
        "outputId": "cb20e08a-4734-4c99-d61e-59058c9382c2"
      },
      "execution_count": null,
      "outputs": [
        {
          "output_type": "stream",
          "name": "stdout",
          "text": [
            "Collecting pyngrok\n",
            "  Downloading pyngrok-7.2.11-py3-none-any.whl.metadata (9.4 kB)\n",
            "Requirement already satisfied: PyYAML>=5.1 in /usr/local/lib/python3.11/dist-packages (from pyngrok) (6.0.2)\n",
            "Downloading pyngrok-7.2.11-py3-none-any.whl (25 kB)\n",
            "Installing collected packages: pyngrok\n",
            "Successfully installed pyngrok-7.2.11\n"
          ]
        }
      ]
    },
    {
      "cell_type": "code",
      "source": [
        "from pyspark.sql import SparkSession\n",
        "\n",
        "spark = SparkSession.builder \\\n",
        "    .master('local[*]') \\\n",
        "    .appName(\"Iniciando com Spark\") \\\n",
        "    .config('spark.ui.port', '4050') \\\n",
        "    .getOrCreate()"
      ],
      "metadata": {
        "id": "gmJt1T3yiPMH"
      },
      "execution_count": null,
      "outputs": []
    },
    {
      "cell_type": "code",
      "source": [
        "from pyspark.sql.functions import *"
      ],
      "metadata": {
        "id": "5f302x7zjmgv"
      },
      "execution_count": null,
      "outputs": []
    },
    {
      "cell_type": "markdown",
      "source": [
        "## Obtendo Os Dados"
      ],
      "metadata": {
        "id": "txzWSM3xKQGf"
      }
    },
    {
      "cell_type": "code",
      "execution_count": null,
      "metadata": {
        "id": "NXpLbeAgLfQA"
      },
      "outputs": [],
      "source": [
        "path = '/content/chamada_regular_sisu_2023_2.csv'"
      ]
    },
    {
      "cell_type": "code",
      "source": [
        "dados = (spark.read.format('csv').option('sep', '|')\n",
        "        .option('header', 'true').option('inferSchema', 'true')\n",
        "        .option('encoding', 'iso-8859-1').load(path))"
      ],
      "metadata": {
        "id": "hGxrp_h6LlYc"
      },
      "execution_count": null,
      "outputs": []
    },
    {
      "cell_type": "code",
      "source": [
        "dados.count(), len(dados.columns)"
      ],
      "metadata": {
        "colab": {
          "base_uri": "https://localhost:8080/"
        },
        "id": "HNIOiuMFPkd7",
        "outputId": "35fa9aec-ef47-4e13-98c2-9b6590a9f7c2"
      },
      "execution_count": null,
      "outputs": [
        {
          "output_type": "execute_result",
          "data": {
            "text/plain": [
              "(578781, 56)"
            ]
          },
          "metadata": {},
          "execution_count": 18
        }
      ]
    },
    {
      "cell_type": "code",
      "source": [
        "dados.select('*').show()"
      ],
      "metadata": {
        "colab": {
          "base_uri": "https://localhost:8080/"
        },
        "id": "60DkuB1r-HV2",
        "outputId": "7c634b7c-a0ee-4c01-97f0-eb20f1d6e818"
      },
      "execution_count": null,
      "outputs": [
        {
          "output_type": "stream",
          "name": "stdout",
          "text": [
            "+----+------+-----+---------------+----------+--------------------+---------+------+-------------+--------------------+---------+----------------+------------+--------------------+-----------+-------+----------------+-------+---------------------+------------------+---------------------+----------------+------+-------+-------+------+------+-------------+--------------+--------------+-------------+-------------+------------+-------------+--------------+--------------------+----+-------------+------------+-------------------+-----+------+-------+-------+------+------+---------------+----------------+----------------+---------------+---------------+--------------+----------+-------------+--------+--------------+\n",
            "| ANO|EDICAO|ETAPA|       DS_ETAPA|CODIGO_IES|            NOME_IES|SIGLA_IES|UF_IES|CODIGO_CAMPUS|         NOME_CAMPUS|UF_CAMPUS|MUNICIPIO_CAMPUS|CODIGO_CURSO|          NOME_CURSO|       GRAU|  TURNO|DS_PERIODICIDADE|TP_COTA|TIPO_MOD_CONCORRENCIA|  MOD_CONCORRENCIA|QT_VAGAS_CONCORRENCIA|PERCENTUAL_BONUS|PESO_L|PESO_CH|PESO_CN|PESO_M|PESO_R|NOTA_MINIMA_L|NOTA_MINIMA_CH|NOTA_MINIMA_CN|NOTA_MINIMA_M|NOTA_MINIMA_R|MEDIA_MINIMA|          CPF|INSCRICAO_ENEM|            INSCRITO|SEXO|DT_NASCIMENTO|UF_CANDIDATO|MUNICIPIO_CANDIDATO|OPCAO|NOTA_L|NOTA_CH|NOTA_CN|NOTA_M|NOTA_R|NOTA_L_COM_PESO|NOTA_CH_COM_PESO|NOTA_CN_COM_PESO|NOTA_M_COM_PESO|NOTA_R_COM_PESO|NOTA_CANDIDATO|NOTA_CORTE|CLASSIFICACAO|APROVADO|     MATRICULA|\n",
            "+----+------+-----+---------------+----------+--------------------+---------+------+-------------+--------------------+---------+----------------+------------+--------------------+-----------+-------+----------------+-------+---------------------+------------------+---------------------+----------------+------+-------+-------+------+------+-------------+--------------+--------------+-------------+-------------+------------+-------------+--------------+--------------------+----+-------------+------------+-------------------+-----+------+-------+-------+------+------+---------------+----------------+----------------+---------------+---------------+--------------+----------+-------------+--------+--------------+\n",
            "|2023|     2|    4|CHAMADA REGULAR|       593|CENTRO FEDERAL DE...| CEFET/RJ|    RJ|         1663|CEFET-RJ - MARIA ...|       RJ|  Rio de Janeiro|     1441998|SISTEMAS DE INFOR...|Bacharelado|Noturno|       Semestral|   NULL|                    A|Ampla concorrência|                   15|            NULL|     1|      1|      2|     4|     3|        453,8|         444,7|         453,3|        438,4|          300|      418,04|XXX.529327-XX|  221XXXXXX588|ADILIO JOSE DIAS ...|   M|         2000|          RJ|     Rio de Janeiro|    1| 601,3|  605,3|  615,3| 663,2|   920|          601,3|           605,3|          1230,6|         2652,8|           2760|        713,64|    709,82|           10|       S|     EFETIVADA|\n",
            "|2023|     2|    4|CHAMADA REGULAR|       593|CENTRO FEDERAL DE...| CEFET/RJ|    RJ|         1663|CEFET-RJ - MARIA ...|       RJ|  Rio de Janeiro|     1441998|SISTEMAS DE INFOR...|Bacharelado|Noturno|       Semestral|   NULL|                    A|Ampla concorrência|                   15|            NULL|     1|      1|      2|     4|     3|        453,8|         444,7|         453,3|        438,4|          300|      418,04|XXX.398407-XX|  221XXXXXX236|ALBERTH TEIXEIRA ...|   M|         2001|          RJ|     Rio de Janeiro|    2| 620,3|  630,2|  553,2| 731,6|   660|          620,3|           630,2|          1106,4|         2926,4|           1980|         660,3|    709,82|           51|       N|      PENDENTE|\n",
            "|2023|     2|    4|CHAMADA REGULAR|       593|CENTRO FEDERAL DE...| CEFET/RJ|    RJ|         1663|CEFET-RJ - MARIA ...|       RJ|  Rio de Janeiro|     1441998|SISTEMAS DE INFOR...|Bacharelado|Noturno|       Semestral|   NULL|                    A|Ampla concorrência|                   15|            NULL|     1|      1|      2|     4|     3|        453,8|         444,7|         453,3|        438,4|          300|      418,04|XXX.787587-XX|  221XXXXXX458|ALEXANDRE VIANA G...|   M|         1994|          RJ|     Rio de Janeiro|    1| 631,3|  604,8|  621,1| 673,1|   580|          631,3|           604,8|          1242,2|         2692,4|           1740|        628,25|    709,82|           68|       N|      PENDENTE|\n",
            "|2023|     2|    4|CHAMADA REGULAR|       593|CENTRO FEDERAL DE...| CEFET/RJ|    RJ|         1663|CEFET-RJ - MARIA ...|       RJ|  Rio de Janeiro|     1441998|SISTEMAS DE INFOR...|Bacharelado|Noturno|       Semestral|   NULL|                    A|Ampla concorrência|                   15|            NULL|     1|      1|      2|     4|     3|        453,8|         444,7|         453,3|        438,4|          300|      418,04|XXX.641477-XX|  221XXXXXX526|ANA JULIA MELO DA...|   F|         2004|          RJ|            Resende|    2| 534,8|  550,8|  468,5|   612|   820|          534,8|           550,8|             937|           2448|           2460|        630,05|    709,82|           67|       N|      PENDENTE|\n",
            "|2023|     2|    4|CHAMADA REGULAR|       593|CENTRO FEDERAL DE...| CEFET/RJ|    RJ|         1663|CEFET-RJ - MARIA ...|       RJ|  Rio de Janeiro|     1441998|SISTEMAS DE INFOR...|Bacharelado|Noturno|       Semestral|   NULL|                    A|Ampla concorrência|                   15|            NULL|     1|      1|      2|     4|     3|        453,8|         444,7|         453,3|        438,4|          300|      418,04|XXX.576257-XX|  221XXXXXX498|ARTHUR CAMPOS CAR...|   M|         2005|          RJ|     Rio de Janeiro|    2| 623,8|  625,3|  637,9| 675,7|   920|          623,8|           625,3|          1275,8|         2702,8|           2760|        726,15|    709,82|            1|       S|     EFETIVADA|\n",
            "|2023|     2|    4|CHAMADA REGULAR|       593|CENTRO FEDERAL DE...| CEFET/RJ|    RJ|         1663|CEFET-RJ - MARIA ...|       RJ|  Rio de Janeiro|     1441998|SISTEMAS DE INFOR...|Bacharelado|Noturno|       Semestral|   NULL|                    A|Ampla concorrência|                   15|            NULL|     1|      1|      2|     4|     3|        453,8|         444,7|         453,3|        438,4|          300|      418,04|XXX.866997-XX|  221XXXXXX226|BERNARDO MAIA DE ...|   M|         2003|          RJ|        São Gonçalo|    2| 533,4|  623,7|  601,4| 679,4|   820|          533,4|           623,7|          1202,8|         2717,6|           2460|        685,23|    709,82|         NULL|       N|      PENDENTE|\n",
            "|2023|     2|    4|CHAMADA REGULAR|       593|CENTRO FEDERAL DE...| CEFET/RJ|    RJ|         1663|CEFET-RJ - MARIA ...|       RJ|  Rio de Janeiro|     1441998|SISTEMAS DE INFOR...|Bacharelado|Noturno|       Semestral|   NULL|                    A|Ampla concorrência|                   15|            NULL|     1|      1|      2|     4|     3|        453,8|         444,7|         453,3|        438,4|          300|      418,04|XXX.594688-XX|  221XXXXXX339|BRUNO FERNANDES C...|   M|         1997|          SP|          Rio Claro|    1| 551,5|  599,3|  545,6| 473,2|   300|          551,5|           599,3|          1091,2|         1892,8|            900|        457,71|    709,82|           95|       N|      PENDENTE|\n",
            "|2023|     2|    4|CHAMADA REGULAR|       593|CENTRO FEDERAL DE...| CEFET/RJ|    RJ|         1663|CEFET-RJ - MARIA ...|       RJ|  Rio de Janeiro|     1441998|SISTEMAS DE INFOR...|Bacharelado|Noturno|       Semestral|   NULL|                    A|Ampla concorrência|                   15|            NULL|     1|      1|      2|     4|     3|        453,8|         444,7|         453,3|        438,4|          300|      418,04|XXX.961177-XX|  221XXXXXX410|CAIO AUGUSTO FER ...|   M|         2003|          RJ| São João de Meriti|    1| 601,6|  660,1|  556,8| 728,4|   840|          601,6|           660,1|          1113,6|         2913,6|           2520|         709,9|    709,82|           14|       S|NÃO COMPARECEU|\n",
            "|2023|     2|    4|CHAMADA REGULAR|       593|CENTRO FEDERAL DE...| CEFET/RJ|    RJ|         1663|CEFET-RJ - MARIA ...|       RJ|  Rio de Janeiro|     1441998|SISTEMAS DE INFOR...|Bacharelado|Noturno|       Semestral|   NULL|                    A|Ampla concorrência|                   15|            NULL|     1|      1|      2|     4|     3|        453,8|         444,7|         453,3|        438,4|          300|      418,04|XXX.433457-XX|  221XXXXXX831|   CAIO CHAGAS SILVA|   M|         2005|          RJ|     Rio de Janeiro|    2| 565,8|  605,3|  655,9|   749|   780|          565,8|           605,3|          1311,8|           2996|           2340|        710,81|    709,82|           11|       S|     EFETIVADA|\n",
            "|2023|     2|    4|CHAMADA REGULAR|       593|CENTRO FEDERAL DE...| CEFET/RJ|    RJ|         1663|CEFET-RJ - MARIA ...|       RJ|  Rio de Janeiro|     1441998|SISTEMAS DE INFOR...|Bacharelado|Noturno|       Semestral|   NULL|                    A|Ampla concorrência|                   15|            NULL|     1|      1|      2|     4|     3|        453,8|         444,7|         453,3|        438,4|          300|      418,04|XXX.534907-XX|  221XXXXXX879|CAIO DOS SANTOS F...|   M|         2002|          RJ|     Rio de Janeiro|    2|   615|  612,2|  532,1| 696,1|   840|            615|           612,2|          1064,2|         2784,4|           2520|        690,53|    709,82|         NULL|       N|      PENDENTE|\n",
            "|2023|     2|    4|CHAMADA REGULAR|       593|CENTRO FEDERAL DE...| CEFET/RJ|    RJ|         1663|CEFET-RJ - MARIA ...|       RJ|  Rio de Janeiro|     1441998|SISTEMAS DE INFOR...|Bacharelado|Noturno|       Semestral|   NULL|                    A|Ampla concorrência|                   15|            NULL|     1|      1|      2|     4|     3|        453,8|         444,7|         453,3|        438,4|          300|      418,04|XXX.326567-XX|  221XXXXXX500|CAIO DOS SANTOS S...|   M|         2005|          RJ|     Rio de Janeiro|    2| 597,3|  597,2|  521,6| 654,2|   720|          597,3|           597,2|          1043,2|         2616,8|           2160|        637,68|    709,82|           65|       N|      PENDENTE|\n",
            "|2023|     2|    4|CHAMADA REGULAR|       593|CENTRO FEDERAL DE...| CEFET/RJ|    RJ|         1663|CEFET-RJ - MARIA ...|       RJ|  Rio de Janeiro|     1441998|SISTEMAS DE INFOR...|Bacharelado|Noturno|       Semestral|   NULL|                    A|Ampla concorrência|                   15|            NULL|     1|      1|      2|     4|     3|        453,8|         444,7|         453,3|        438,4|          300|      418,04|XXX.205997-XX|  221XXXXXX507|CAIO OLIVEIRA FARIAS|   M|         2003|          RJ|     Rio de Janeiro|    2| 560,6|  510,1|  556,1|   686|   720|          560,6|           510,1|          1112,2|           2744|           2160|        644,26|    709,82|           62|       N|      PENDENTE|\n",
            "|2023|     2|    4|CHAMADA REGULAR|       593|CENTRO FEDERAL DE...| CEFET/RJ|    RJ|         1663|CEFET-RJ - MARIA ...|       RJ|  Rio de Janeiro|     1441998|SISTEMAS DE INFOR...|Bacharelado|Noturno|       Semestral|   NULL|                    A|Ampla concorrência|                   15|            NULL|     1|      1|      2|     4|     3|        453,8|         444,7|         453,3|        438,4|          300|      418,04|XXX.175287-XX|  221XXXXXX137|CAUA DE CASTRO LO...|   M|         2005|          RJ|    Duque de Caxias|    2| 522,3|  496,8|  467,1|   658|   900|          522,3|           496,8|           934,2|           2632|           2700|         662,3|    709,82|         NULL|       N|      PENDENTE|\n",
            "|2023|     2|    4|CHAMADA REGULAR|       593|CENTRO FEDERAL DE...| CEFET/RJ|    RJ|         1663|CEFET-RJ - MARIA ...|       RJ|  Rio de Janeiro|     1441998|SISTEMAS DE INFOR...|Bacharelado|Noturno|       Semestral|   NULL|                    A|Ampla concorrência|                   15|            NULL|     1|      1|      2|     4|     3|        453,8|         444,7|         453,3|        438,4|          300|      418,04|XXX.329237-XX|  221XXXXXX677|CAUA FIGUEIREDO E...|   M|         2005|          RJ|            Niterói|    1| 551,9|  560,5|  527,3| 691,2|   900|          551,9|           560,5|          1054,6|         2764,8|           2700|         693,8|    709,82|           30|       N|      PENDENTE|\n",
            "|2023|     2|    4|CHAMADA REGULAR|       593|CENTRO FEDERAL DE...| CEFET/RJ|    RJ|         1663|CEFET-RJ - MARIA ...|       RJ|  Rio de Janeiro|     1441998|SISTEMAS DE INFOR...|Bacharelado|Noturno|       Semestral|   NULL|                    A|Ampla concorrência|                   15|            NULL|     1|      1|      2|     4|     3|        453,8|         444,7|         453,3|        438,4|          300|      418,04|XXX.769727-XX|  221XXXXXX706|CAUE LOPES SOUTO ...|   M|         2004|          RJ|            Niterói|    2| 587,1|  647,5|  593,6| 729,5|   860|          587,1|           647,5|          1187,2|           2918|           2580|        719,98|    709,82|            2|       S|NÃO COMPARECEU|\n",
            "|2023|     2|    4|CHAMADA REGULAR|       593|CENTRO FEDERAL DE...| CEFET/RJ|    RJ|         1663|CEFET-RJ - MARIA ...|       RJ|  Rio de Janeiro|     1441998|SISTEMAS DE INFOR...|Bacharelado|Noturno|       Semestral|   NULL|                    A|Ampla concorrência|                   15|            NULL|     1|      1|      2|     4|     3|        453,8|         444,7|         453,3|        438,4|          300|      418,04|XXX.584317-XX|  221XXXXXX374|DANIEL DO NASCIME...|   M|         2005|          RJ|     Rio de Janeiro|    2|   601|  558,5|  523,2| 558,3|   600|            601|           558,5|          1046,4|         2233,2|           1800|        567,19|    709,82|           86|       N|      PENDENTE|\n",
            "|2023|     2|    4|CHAMADA REGULAR|       593|CENTRO FEDERAL DE...| CEFET/RJ|    RJ|         1663|CEFET-RJ - MARIA ...|       RJ|  Rio de Janeiro|     1441998|SISTEMAS DE INFOR...|Bacharelado|Noturno|       Semestral|   NULL|                    A|Ampla concorrência|                   15|            NULL|     1|      1|      2|     4|     3|        453,8|         444,7|         453,3|        438,4|          300|      418,04|XXX.582427-XX|  221XXXXXX178| DANIEL MARUJO SILVA|   M|         2005|          RJ|     Rio de Janeiro|    2| 622,5|  623,6|  611,9| 782,1|   700|          622,5|           623,6|          1223,8|         3128,4|           2100|        699,85|    709,82|           25|       N|      PENDENTE|\n",
            "|2023|     2|    4|CHAMADA REGULAR|       593|CENTRO FEDERAL DE...| CEFET/RJ|    RJ|         1663|CEFET-RJ - MARIA ...|       RJ|  Rio de Janeiro|     1441998|SISTEMAS DE INFOR...|Bacharelado|Noturno|       Semestral|   NULL|                    A|Ampla concorrência|                   15|            NULL|     1|      1|      2|     4|     3|        453,8|         444,7|         453,3|        438,4|          300|      418,04|XXX.125517-XX|  221XXXXXX735|DANIEL NEGREIROS ...|   M|         2005|          RJ|     Rio de Janeiro|    2| 556,5|  591,6|  541,6| 736,3|   900|          556,5|           591,6|          1083,2|         2945,2|           2700|        716,05|    709,82|            6|       S|     EFETIVADA|\n",
            "|2023|     2|    4|CHAMADA REGULAR|       593|CENTRO FEDERAL DE...| CEFET/RJ|    RJ|         1663|CEFET-RJ - MARIA ...|       RJ|  Rio de Janeiro|     1441998|SISTEMAS DE INFOR...|Bacharelado|Noturno|       Semestral|   NULL|                    A|Ampla concorrência|                   15|            NULL|     1|      1|      2|     4|     3|        453,8|         444,7|         453,3|        438,4|          300|      418,04|XXX.768437-XX|  221XXXXXX466|DANIEL RODRIGUES ...|   M|         2005|          RJ|     Rio de Janeiro|    1| 605,9|  664,8|  589,9| 767,7|   760|          605,9|           664,8|          1179,8|         3070,8|           2280|        709,21|    709,82|           16|       N|      PENDENTE|\n",
            "|2023|     2|    4|CHAMADA REGULAR|       593|CENTRO FEDERAL DE...| CEFET/RJ|    RJ|         1663|CEFET-RJ - MARIA ...|       RJ|  Rio de Janeiro|     1441998|SISTEMAS DE INFOR...|Bacharelado|Noturno|       Semestral|   NULL|                    A|Ampla concorrência|                   15|            NULL|     1|      1|      2|     4|     3|        453,8|         444,7|         453,3|        438,4|          300|      418,04|XXX.681697-XX|  221XXXXXX958|  DAVI ESTEVES LOPES|   M|         2005|          RJ|     Rio de Janeiro|    1| 580,4|  562,6|  521,5| 616,5|   440|          580,4|           562,6|            1043|           2466|           1320|        542,91|    709,82|           91|       N|      PENDENTE|\n",
            "+----+------+-----+---------------+----------+--------------------+---------+------+-------------+--------------------+---------+----------------+------------+--------------------+-----------+-------+----------------+-------+---------------------+------------------+---------------------+----------------+------+-------+-------+------+------+-------------+--------------+--------------+-------------+-------------+------------+-------------+--------------+--------------------+----+-------------+------------+-------------------+-----+------+-------+-------+------+------+---------------+----------------+----------------+---------------+---------------+--------------+----------+-------------+--------+--------------+\n",
            "only showing top 20 rows\n",
            "\n"
          ]
        }
      ]
    },
    {
      "cell_type": "code",
      "source": [
        "from pyspark.sql.functions import *"
      ],
      "metadata": {
        "id": "F6KfxXG6MI2H"
      },
      "execution_count": null,
      "outputs": []
    },
    {
      "cell_type": "code",
      "source": [
        "dados.select([count(when(col(c).isNull(), c)).alias(c) for c in dados.columns]).show()"
      ],
      "metadata": {
        "colab": {
          "base_uri": "https://localhost:8080/"
        },
        "id": "d5S4VTW3nf9S",
        "outputId": "928d551f-2226-453a-e1ce-b9cca35e7c0d"
      },
      "execution_count": null,
      "outputs": [
        {
          "output_type": "stream",
          "name": "stdout",
          "text": [
            "+---+------+-----+--------+----------+--------+---------+------+-------------+-----------+---------+----------------+------------+----------+----+-----+----------------+-------+---------------------+----------------+---------------------+----------------+------+-------+-------+------+------+-------------+--------------+--------------+-------------+-------------+------------+---+--------------+--------+----+-------------+------------+-------------------+-----+------+-------+-------+------+------+---------------+----------------+----------------+---------------+---------------+--------------+----------+-------------+--------+---------+\n",
            "|ANO|EDICAO|ETAPA|DS_ETAPA|CODIGO_IES|NOME_IES|SIGLA_IES|UF_IES|CODIGO_CAMPUS|NOME_CAMPUS|UF_CAMPUS|MUNICIPIO_CAMPUS|CODIGO_CURSO|NOME_CURSO|GRAU|TURNO|DS_PERIODICIDADE|TP_COTA|TIPO_MOD_CONCORRENCIA|MOD_CONCORRENCIA|QT_VAGAS_CONCORRENCIA|PERCENTUAL_BONUS|PESO_L|PESO_CH|PESO_CN|PESO_M|PESO_R|NOTA_MINIMA_L|NOTA_MINIMA_CH|NOTA_MINIMA_CN|NOTA_MINIMA_M|NOTA_MINIMA_R|MEDIA_MINIMA|CPF|INSCRICAO_ENEM|INSCRITO|SEXO|DT_NASCIMENTO|UF_CANDIDATO|MUNICIPIO_CANDIDATO|OPCAO|NOTA_L|NOTA_CH|NOTA_CN|NOTA_M|NOTA_R|NOTA_L_COM_PESO|NOTA_CH_COM_PESO|NOTA_CN_COM_PESO|NOTA_M_COM_PESO|NOTA_R_COM_PESO|NOTA_CANDIDATO|NOTA_CORTE|CLASSIFICACAO|APROVADO|MATRICULA|\n",
            "+---+------+-----+--------+----------+--------+---------+------+-------------+-----------+---------+----------------+------------+----------+----+-----+----------------+-------+---------------------+----------------+---------------------+----------------+------+-------+-------+------+------+-------------+--------------+--------------+-------------+-------------+------------+---+--------------+--------+----+-------------+------------+-------------------+-----+------+-------+-------+------+------+---------------+----------------+----------------+---------------+---------------+--------------+----------+-------------+--------+---------+\n",
            "|  0|     0|    0|       0|         0|       0|        0|     0|            0|          0|        0|               0|           0|         0|   0|    0|               0| 335755|                    0|               0|                    0|          549804|     0|      0|      0|     0|     0|            0|             0|             0|            0|            0|           0|  0|             0|       0|   0|            0|           0|                  0|    0|     0|      0|      0|     0|     0|              0|               0|               0|              0|              0|             0|      2231|        24346|       0|        0|\n",
            "+---+------+-----+--------+----------+--------+---------+------+-------------+-----------+---------+----------------+------------+----------+----+-----+----------------+-------+---------------------+----------------+---------------------+----------------+------+-------+-------+------+------+-------------+--------------+--------------+-------------+-------------+------------+---+--------------+--------+----+-------------+------------+-------------------+-----+------+-------+-------+------+------+---------------+----------------+----------------+---------------+---------------+--------------+----------+-------------+--------+---------+\n",
            "\n"
          ]
        }
      ]
    },
    {
      "cell_type": "code",
      "source": [
        "coluns = ['ANO', 'NOME_IES','UF_IES', 'NOME_CAMPUS', 'UF_CAMPUS',\n",
        "           'MUNICIPIO_CAMPUS', 'NOME_CURSO', 'GRAU', 'TURNO',\n",
        "       'DS_PERIODICIDADE', 'TIPO_MOD_CONCORRENCIA', 'MOD_CONCORRENCIA',\n",
        "       'QT_VAGAS_CONCORRENCIA', 'PESO_L', 'PESO_CH', 'PESO_CN', 'PESO_M',\n",
        "       'PESO_R', 'NOTA_MINIMA_L', 'NOTA_MINIMA_CH', 'NOTA_MINIMA_CN',\n",
        "       'NOTA_MINIMA_M', 'NOTA_MINIMA_R', 'MEDIA_MINIMA', 'INSCRITO', 'SEXO',\n",
        "          'DT_NASCIMENTO', 'UF_CANDIDATO',\n",
        "       'MUNICIPIO_CANDIDATO', 'OPCAO', 'NOTA_L', 'NOTA_CH', 'NOTA_CN',\n",
        "       'NOTA_M', 'NOTA_R', 'NOTA_L_COM_PESO', 'NOTA_CH_COM_PESO',\n",
        "       'NOTA_CN_COM_PESO', 'NOTA_M_COM_PESO', 'NOTA_R_COM_PESO',\n",
        "       'NOTA_CANDIDATO', 'NOTA_CORTE','CLASSIFICACAO', 'APROVADO', 'MATRICULA']"
      ],
      "metadata": {
        "id": "zFQIy-spLlTR"
      },
      "execution_count": null,
      "outputs": []
    },
    {
      "cell_type": "code",
      "source": [
        "dados = dados[coluns]"
      ],
      "metadata": {
        "id": "0UvXM-pKlhqM"
      },
      "execution_count": null,
      "outputs": []
    },
    {
      "cell_type": "code",
      "source": [
        "dados.select('*').show()"
      ],
      "metadata": {
        "colab": {
          "base_uri": "https://localhost:8080/"
        },
        "id": "tLcrSp_5lsQC",
        "outputId": "a55e895c-5760-4fcc-87bd-8b002f7a7236"
      },
      "execution_count": null,
      "outputs": [
        {
          "output_type": "stream",
          "name": "stdout",
          "text": [
            "+----+--------------------+------+--------------------+---------+----------------+--------------------+-----------+-------+----------------+---------------------+------------------+---------------------+------+-------+-------+------+------+-------------+--------------+--------------+-------------+-------------+------------+--------------------+----+-------------+------------+-------------------+-----+------+-------+-------+------+------+---------------+----------------+----------------+---------------+---------------+--------------+----------+-------------+--------+--------------+\n",
            "| ANO|            NOME_IES|UF_IES|         NOME_CAMPUS|UF_CAMPUS|MUNICIPIO_CAMPUS|          NOME_CURSO|       GRAU|  TURNO|DS_PERIODICIDADE|TIPO_MOD_CONCORRENCIA|  MOD_CONCORRENCIA|QT_VAGAS_CONCORRENCIA|PESO_L|PESO_CH|PESO_CN|PESO_M|PESO_R|NOTA_MINIMA_L|NOTA_MINIMA_CH|NOTA_MINIMA_CN|NOTA_MINIMA_M|NOTA_MINIMA_R|MEDIA_MINIMA|            INSCRITO|SEXO|DT_NASCIMENTO|UF_CANDIDATO|MUNICIPIO_CANDIDATO|OPCAO|NOTA_L|NOTA_CH|NOTA_CN|NOTA_M|NOTA_R|NOTA_L_COM_PESO|NOTA_CH_COM_PESO|NOTA_CN_COM_PESO|NOTA_M_COM_PESO|NOTA_R_COM_PESO|NOTA_CANDIDATO|NOTA_CORTE|CLASSIFICACAO|APROVADO|     MATRICULA|\n",
            "+----+--------------------+------+--------------------+---------+----------------+--------------------+-----------+-------+----------------+---------------------+------------------+---------------------+------+-------+-------+------+------+-------------+--------------+--------------+-------------+-------------+------------+--------------------+----+-------------+------------+-------------------+-----+------+-------+-------+------+------+---------------+----------------+----------------+---------------+---------------+--------------+----------+-------------+--------+--------------+\n",
            "|2023|CENTRO FEDERAL DE...|    RJ|CEFET-RJ - MARIA ...|       RJ|  Rio de Janeiro|SISTEMAS DE INFOR...|Bacharelado|Noturno|       Semestral|                    A|Ampla concorrência|                   15|     1|      1|      2|     4|     3|        453,8|         444,7|         453,3|        438,4|          300|      418,04|ADILIO JOSE DIAS ...|   M|         2000|          RJ|     Rio de Janeiro|    1| 601,3|  605,3|  615,3| 663,2|   920|          601,3|           605,3|          1230,6|         2652,8|           2760|        713,64|    709,82|           10|       S|     EFETIVADA|\n",
            "|2023|CENTRO FEDERAL DE...|    RJ|CEFET-RJ - MARIA ...|       RJ|  Rio de Janeiro|SISTEMAS DE INFOR...|Bacharelado|Noturno|       Semestral|                    A|Ampla concorrência|                   15|     1|      1|      2|     4|     3|        453,8|         444,7|         453,3|        438,4|          300|      418,04|ALBERTH TEIXEIRA ...|   M|         2001|          RJ|     Rio de Janeiro|    2| 620,3|  630,2|  553,2| 731,6|   660|          620,3|           630,2|          1106,4|         2926,4|           1980|         660,3|    709,82|           51|       N|      PENDENTE|\n",
            "|2023|CENTRO FEDERAL DE...|    RJ|CEFET-RJ - MARIA ...|       RJ|  Rio de Janeiro|SISTEMAS DE INFOR...|Bacharelado|Noturno|       Semestral|                    A|Ampla concorrência|                   15|     1|      1|      2|     4|     3|        453,8|         444,7|         453,3|        438,4|          300|      418,04|ALEXANDRE VIANA G...|   M|         1994|          RJ|     Rio de Janeiro|    1| 631,3|  604,8|  621,1| 673,1|   580|          631,3|           604,8|          1242,2|         2692,4|           1740|        628,25|    709,82|           68|       N|      PENDENTE|\n",
            "|2023|CENTRO FEDERAL DE...|    RJ|CEFET-RJ - MARIA ...|       RJ|  Rio de Janeiro|SISTEMAS DE INFOR...|Bacharelado|Noturno|       Semestral|                    A|Ampla concorrência|                   15|     1|      1|      2|     4|     3|        453,8|         444,7|         453,3|        438,4|          300|      418,04|ANA JULIA MELO DA...|   F|         2004|          RJ|            Resende|    2| 534,8|  550,8|  468,5|   612|   820|          534,8|           550,8|             937|           2448|           2460|        630,05|    709,82|           67|       N|      PENDENTE|\n",
            "|2023|CENTRO FEDERAL DE...|    RJ|CEFET-RJ - MARIA ...|       RJ|  Rio de Janeiro|SISTEMAS DE INFOR...|Bacharelado|Noturno|       Semestral|                    A|Ampla concorrência|                   15|     1|      1|      2|     4|     3|        453,8|         444,7|         453,3|        438,4|          300|      418,04|ARTHUR CAMPOS CAR...|   M|         2005|          RJ|     Rio de Janeiro|    2| 623,8|  625,3|  637,9| 675,7|   920|          623,8|           625,3|          1275,8|         2702,8|           2760|        726,15|    709,82|            1|       S|     EFETIVADA|\n",
            "|2023|CENTRO FEDERAL DE...|    RJ|CEFET-RJ - MARIA ...|       RJ|  Rio de Janeiro|SISTEMAS DE INFOR...|Bacharelado|Noturno|       Semestral|                    A|Ampla concorrência|                   15|     1|      1|      2|     4|     3|        453,8|         444,7|         453,3|        438,4|          300|      418,04|BERNARDO MAIA DE ...|   M|         2003|          RJ|        São Gonçalo|    2| 533,4|  623,7|  601,4| 679,4|   820|          533,4|           623,7|          1202,8|         2717,6|           2460|        685,23|    709,82|         NULL|       N|      PENDENTE|\n",
            "|2023|CENTRO FEDERAL DE...|    RJ|CEFET-RJ - MARIA ...|       RJ|  Rio de Janeiro|SISTEMAS DE INFOR...|Bacharelado|Noturno|       Semestral|                    A|Ampla concorrência|                   15|     1|      1|      2|     4|     3|        453,8|         444,7|         453,3|        438,4|          300|      418,04|BRUNO FERNANDES C...|   M|         1997|          SP|          Rio Claro|    1| 551,5|  599,3|  545,6| 473,2|   300|          551,5|           599,3|          1091,2|         1892,8|            900|        457,71|    709,82|           95|       N|      PENDENTE|\n",
            "|2023|CENTRO FEDERAL DE...|    RJ|CEFET-RJ - MARIA ...|       RJ|  Rio de Janeiro|SISTEMAS DE INFOR...|Bacharelado|Noturno|       Semestral|                    A|Ampla concorrência|                   15|     1|      1|      2|     4|     3|        453,8|         444,7|         453,3|        438,4|          300|      418,04|CAIO AUGUSTO FER ...|   M|         2003|          RJ| São João de Meriti|    1| 601,6|  660,1|  556,8| 728,4|   840|          601,6|           660,1|          1113,6|         2913,6|           2520|         709,9|    709,82|           14|       S|NÃO COMPARECEU|\n",
            "|2023|CENTRO FEDERAL DE...|    RJ|CEFET-RJ - MARIA ...|       RJ|  Rio de Janeiro|SISTEMAS DE INFOR...|Bacharelado|Noturno|       Semestral|                    A|Ampla concorrência|                   15|     1|      1|      2|     4|     3|        453,8|         444,7|         453,3|        438,4|          300|      418,04|   CAIO CHAGAS SILVA|   M|         2005|          RJ|     Rio de Janeiro|    2| 565,8|  605,3|  655,9|   749|   780|          565,8|           605,3|          1311,8|           2996|           2340|        710,81|    709,82|           11|       S|     EFETIVADA|\n",
            "|2023|CENTRO FEDERAL DE...|    RJ|CEFET-RJ - MARIA ...|       RJ|  Rio de Janeiro|SISTEMAS DE INFOR...|Bacharelado|Noturno|       Semestral|                    A|Ampla concorrência|                   15|     1|      1|      2|     4|     3|        453,8|         444,7|         453,3|        438,4|          300|      418,04|CAIO DOS SANTOS F...|   M|         2002|          RJ|     Rio de Janeiro|    2|   615|  612,2|  532,1| 696,1|   840|            615|           612,2|          1064,2|         2784,4|           2520|        690,53|    709,82|         NULL|       N|      PENDENTE|\n",
            "|2023|CENTRO FEDERAL DE...|    RJ|CEFET-RJ - MARIA ...|       RJ|  Rio de Janeiro|SISTEMAS DE INFOR...|Bacharelado|Noturno|       Semestral|                    A|Ampla concorrência|                   15|     1|      1|      2|     4|     3|        453,8|         444,7|         453,3|        438,4|          300|      418,04|CAIO DOS SANTOS S...|   M|         2005|          RJ|     Rio de Janeiro|    2| 597,3|  597,2|  521,6| 654,2|   720|          597,3|           597,2|          1043,2|         2616,8|           2160|        637,68|    709,82|           65|       N|      PENDENTE|\n",
            "|2023|CENTRO FEDERAL DE...|    RJ|CEFET-RJ - MARIA ...|       RJ|  Rio de Janeiro|SISTEMAS DE INFOR...|Bacharelado|Noturno|       Semestral|                    A|Ampla concorrência|                   15|     1|      1|      2|     4|     3|        453,8|         444,7|         453,3|        438,4|          300|      418,04|CAIO OLIVEIRA FARIAS|   M|         2003|          RJ|     Rio de Janeiro|    2| 560,6|  510,1|  556,1|   686|   720|          560,6|           510,1|          1112,2|           2744|           2160|        644,26|    709,82|           62|       N|      PENDENTE|\n",
            "|2023|CENTRO FEDERAL DE...|    RJ|CEFET-RJ - MARIA ...|       RJ|  Rio de Janeiro|SISTEMAS DE INFOR...|Bacharelado|Noturno|       Semestral|                    A|Ampla concorrência|                   15|     1|      1|      2|     4|     3|        453,8|         444,7|         453,3|        438,4|          300|      418,04|CAUA DE CASTRO LO...|   M|         2005|          RJ|    Duque de Caxias|    2| 522,3|  496,8|  467,1|   658|   900|          522,3|           496,8|           934,2|           2632|           2700|         662,3|    709,82|         NULL|       N|      PENDENTE|\n",
            "|2023|CENTRO FEDERAL DE...|    RJ|CEFET-RJ - MARIA ...|       RJ|  Rio de Janeiro|SISTEMAS DE INFOR...|Bacharelado|Noturno|       Semestral|                    A|Ampla concorrência|                   15|     1|      1|      2|     4|     3|        453,8|         444,7|         453,3|        438,4|          300|      418,04|CAUA FIGUEIREDO E...|   M|         2005|          RJ|            Niterói|    1| 551,9|  560,5|  527,3| 691,2|   900|          551,9|           560,5|          1054,6|         2764,8|           2700|         693,8|    709,82|           30|       N|      PENDENTE|\n",
            "|2023|CENTRO FEDERAL DE...|    RJ|CEFET-RJ - MARIA ...|       RJ|  Rio de Janeiro|SISTEMAS DE INFOR...|Bacharelado|Noturno|       Semestral|                    A|Ampla concorrência|                   15|     1|      1|      2|     4|     3|        453,8|         444,7|         453,3|        438,4|          300|      418,04|CAUE LOPES SOUTO ...|   M|         2004|          RJ|            Niterói|    2| 587,1|  647,5|  593,6| 729,5|   860|          587,1|           647,5|          1187,2|           2918|           2580|        719,98|    709,82|            2|       S|NÃO COMPARECEU|\n",
            "|2023|CENTRO FEDERAL DE...|    RJ|CEFET-RJ - MARIA ...|       RJ|  Rio de Janeiro|SISTEMAS DE INFOR...|Bacharelado|Noturno|       Semestral|                    A|Ampla concorrência|                   15|     1|      1|      2|     4|     3|        453,8|         444,7|         453,3|        438,4|          300|      418,04|DANIEL DO NASCIME...|   M|         2005|          RJ|     Rio de Janeiro|    2|   601|  558,5|  523,2| 558,3|   600|            601|           558,5|          1046,4|         2233,2|           1800|        567,19|    709,82|           86|       N|      PENDENTE|\n",
            "|2023|CENTRO FEDERAL DE...|    RJ|CEFET-RJ - MARIA ...|       RJ|  Rio de Janeiro|SISTEMAS DE INFOR...|Bacharelado|Noturno|       Semestral|                    A|Ampla concorrência|                   15|     1|      1|      2|     4|     3|        453,8|         444,7|         453,3|        438,4|          300|      418,04| DANIEL MARUJO SILVA|   M|         2005|          RJ|     Rio de Janeiro|    2| 622,5|  623,6|  611,9| 782,1|   700|          622,5|           623,6|          1223,8|         3128,4|           2100|        699,85|    709,82|           25|       N|      PENDENTE|\n",
            "|2023|CENTRO FEDERAL DE...|    RJ|CEFET-RJ - MARIA ...|       RJ|  Rio de Janeiro|SISTEMAS DE INFOR...|Bacharelado|Noturno|       Semestral|                    A|Ampla concorrência|                   15|     1|      1|      2|     4|     3|        453,8|         444,7|         453,3|        438,4|          300|      418,04|DANIEL NEGREIROS ...|   M|         2005|          RJ|     Rio de Janeiro|    2| 556,5|  591,6|  541,6| 736,3|   900|          556,5|           591,6|          1083,2|         2945,2|           2700|        716,05|    709,82|            6|       S|     EFETIVADA|\n",
            "|2023|CENTRO FEDERAL DE...|    RJ|CEFET-RJ - MARIA ...|       RJ|  Rio de Janeiro|SISTEMAS DE INFOR...|Bacharelado|Noturno|       Semestral|                    A|Ampla concorrência|                   15|     1|      1|      2|     4|     3|        453,8|         444,7|         453,3|        438,4|          300|      418,04|DANIEL RODRIGUES ...|   M|         2005|          RJ|     Rio de Janeiro|    1| 605,9|  664,8|  589,9| 767,7|   760|          605,9|           664,8|          1179,8|         3070,8|           2280|        709,21|    709,82|           16|       N|      PENDENTE|\n",
            "|2023|CENTRO FEDERAL DE...|    RJ|CEFET-RJ - MARIA ...|       RJ|  Rio de Janeiro|SISTEMAS DE INFOR...|Bacharelado|Noturno|       Semestral|                    A|Ampla concorrência|                   15|     1|      1|      2|     4|     3|        453,8|         444,7|         453,3|        438,4|          300|      418,04|  DAVI ESTEVES LOPES|   M|         2005|          RJ|     Rio de Janeiro|    1| 580,4|  562,6|  521,5| 616,5|   440|          580,4|           562,6|            1043|           2466|           1320|        542,91|    709,82|           91|       N|      PENDENTE|\n",
            "+----+--------------------+------+--------------------+---------+----------------+--------------------+-----------+-------+----------------+---------------------+------------------+---------------------+------+-------+-------+------+------+-------------+--------------+--------------+-------------+-------------+------------+--------------------+----+-------------+------------+-------------------+-----+------+-------+-------+------+------+---------------+----------------+----------------+---------------+---------------+--------------+----------+-------------+--------+--------------+\n",
            "only showing top 20 rows\n",
            "\n"
          ]
        }
      ]
    },
    {
      "cell_type": "code",
      "source": [
        "cursos = [\n",
        "    'MEDICINA', 'DIREITO',\n",
        "    'ENGENHARIA ELÉTRICA',\n",
        "    'ARQUITETURA E URBANISMO',\n",
        "    'PSICOLOGIA',\n",
        "    'CIÊNCIA DA COMPUTAÇÃO',\n",
        "]"
      ],
      "metadata": {
        "id": "No0d5EKaQkhy"
      },
      "execution_count": null,
      "outputs": []
    },
    {
      "cell_type": "code",
      "source": [
        "base = dados.select(coluns).filter((dados.NOME_CURSO == 'MEDICINA')\n",
        "  | (dados.NOME_CURSO == 'DIREITO')\n",
        "  | (dados.NOME_CURSO == 'ENGENHARIA ELÉTRICA')\n",
        "  | (dados.NOME_CURSO == 'CIÊNCIA DA COMPUTAÇÃO')\n",
        "  | (dados.NOME_CURSO == 'ARQUITETURA E URBANISMO')\n",
        "  | (dados.NOME_CURSO== 'PSICOLOGIA')\n",
        ")"
      ],
      "metadata": {
        "id": "8ZFz1rpH_9-s"
      },
      "execution_count": null,
      "outputs": []
    },
    {
      "cell_type": "code",
      "source": [
        "# base.select('*').show()\n",
        "base.count(), len(base.columns)"
      ],
      "metadata": {
        "colab": {
          "base_uri": "https://localhost:8080/"
        },
        "id": "9R_DbV6UnADZ",
        "outputId": "0ec3273e-8eb7-4bbc-b54d-9e84162abe22"
      },
      "execution_count": null,
      "outputs": [
        {
          "output_type": "execute_result",
          "data": {
            "text/plain": [
              "(225950, 45)"
            ]
          },
          "metadata": {},
          "execution_count": 33
        }
      ]
    },
    {
      "cell_type": "code",
      "source": [
        "base.select(col('NOME_CURSO')).distinct().show(truncate=False)"
      ],
      "metadata": {
        "id": "xvfusKxWk5NB",
        "colab": {
          "base_uri": "https://localhost:8080/"
        },
        "outputId": "0a19f915-5281-43c4-f848-c6208b1473e7"
      },
      "execution_count": null,
      "outputs": [
        {
          "output_type": "stream",
          "name": "stdout",
          "text": [
            "+-----------------------+\n",
            "|NOME_CURSO             |\n",
            "+-----------------------+\n",
            "|CIÊNCIA DA COMPUTAÇÃO  |\n",
            "|PSICOLOGIA             |\n",
            "|MEDICINA               |\n",
            "|ENGENHARIA ELÉTRICA    |\n",
            "|DIREITO                |\n",
            "|ARQUITETURA E URBANISMO|\n",
            "+-----------------------+\n",
            "\n"
          ]
        }
      ]
    },
    {
      "cell_type": "code",
      "source": [
        "base.columns"
      ],
      "metadata": {
        "colab": {
          "base_uri": "https://localhost:8080/"
        },
        "id": "nmHE7mVpnSLx",
        "outputId": "6f413625-b7ea-494e-aa72-f9a20ae1fda1"
      },
      "execution_count": null,
      "outputs": [
        {
          "output_type": "execute_result",
          "data": {
            "text/plain": [
              "['ANO',\n",
              " 'NOME_IES',\n",
              " 'UF_IES',\n",
              " 'NOME_CAMPUS',\n",
              " 'UF_CAMPUS',\n",
              " 'MUNICIPIO_CAMPUS',\n",
              " 'NOME_CURSO',\n",
              " 'GRAU',\n",
              " 'TURNO',\n",
              " 'DS_PERIODICIDADE',\n",
              " 'TIPO_MOD_CONCORRENCIA',\n",
              " 'MOD_CONCORRENCIA',\n",
              " 'QT_VAGAS_CONCORRENCIA',\n",
              " 'PESO_L',\n",
              " 'PESO_CH',\n",
              " 'PESO_CN',\n",
              " 'PESO_M',\n",
              " 'PESO_R',\n",
              " 'NOTA_MINIMA_L',\n",
              " 'NOTA_MINIMA_CH',\n",
              " 'NOTA_MINIMA_CN',\n",
              " 'NOTA_MINIMA_M',\n",
              " 'NOTA_MINIMA_R',\n",
              " 'MEDIA_MINIMA',\n",
              " 'INSCRITO',\n",
              " 'SEXO',\n",
              " 'DT_NASCIMENTO',\n",
              " 'UF_CANDIDATO',\n",
              " 'MUNICIPIO_CANDIDATO',\n",
              " 'OPCAO',\n",
              " 'NOTA_L',\n",
              " 'NOTA_CH',\n",
              " 'NOTA_CN',\n",
              " 'NOTA_M',\n",
              " 'NOTA_R',\n",
              " 'NOTA_L_COM_PESO',\n",
              " 'NOTA_CH_COM_PESO',\n",
              " 'NOTA_CN_COM_PESO',\n",
              " 'NOTA_M_COM_PESO',\n",
              " 'NOTA_R_COM_PESO',\n",
              " 'NOTA_CANDIDATO',\n",
              " 'NOTA_CORTE',\n",
              " 'CLASSIFICACAO',\n",
              " 'APROVADO',\n",
              " 'MATRICULA']"
            ]
          },
          "metadata": {},
          "execution_count": 35
        }
      ]
    },
    {
      "cell_type": "code",
      "source": [
        "base.select('*').show(n=5)"
      ],
      "metadata": {
        "colab": {
          "base_uri": "https://localhost:8080/"
        },
        "id": "dfzCF7UXDkHM",
        "outputId": "0feb96fa-182f-4a95-9e7a-e82d55b9da29"
      },
      "execution_count": null,
      "outputs": [
        {
          "output_type": "stream",
          "name": "stdout",
          "text": [
            "+----+--------------------+------+--------------------+---------+----------------+--------------------+-----------+--------+----------------+---------------------+------------------+---------------------+------+-------+-------+------+------+-------------+--------------+--------------+-------------+-------------+------------+--------------------+----+-------------+------------+-------------------+-----+------+-------+-------+------+------+---------------+----------------+----------------+---------------+---------------+--------------+----------+-------------+--------+---------+\n",
            "| ANO|            NOME_IES|UF_IES|         NOME_CAMPUS|UF_CAMPUS|MUNICIPIO_CAMPUS|          NOME_CURSO|       GRAU|   TURNO|DS_PERIODICIDADE|TIPO_MOD_CONCORRENCIA|  MOD_CONCORRENCIA|QT_VAGAS_CONCORRENCIA|PESO_L|PESO_CH|PESO_CN|PESO_M|PESO_R|NOTA_MINIMA_L|NOTA_MINIMA_CH|NOTA_MINIMA_CN|NOTA_MINIMA_M|NOTA_MINIMA_R|MEDIA_MINIMA|            INSCRITO|SEXO|DT_NASCIMENTO|UF_CANDIDATO|MUNICIPIO_CANDIDATO|OPCAO|NOTA_L|NOTA_CH|NOTA_CN|NOTA_M|NOTA_R|NOTA_L_COM_PESO|NOTA_CH_COM_PESO|NOTA_CN_COM_PESO|NOTA_M_COM_PESO|NOTA_R_COM_PESO|NOTA_CANDIDATO|NOTA_CORTE|CLASSIFICACAO|APROVADO|MATRICULA|\n",
            "+----+--------------------+------+--------------------+---------+----------------+--------------------+-----------+--------+----------------+---------------------+------------------+---------------------+------+-------+-------+------+------+-------------+--------------+--------------+-------------+-------------+------------+--------------------+----+-------------+------------+-------------------+-----+------+-------+-------+------+------+---------------+----------------+----------------+---------------+---------------+--------------+----------+-------------+--------+---------+\n",
            "|2023|CENTRO FEDERAL DE...|    RJ|CEFET/RJ - UNIDAD...|       RJ|  Rio de Janeiro|CIÊNCIA DA COMPUT...|Bacharelado|Integral|       Semestral|                    A|Ampla concorrência|                   20|     3|      1|      3|     4|     4|          500|           400|           500|          500|          500|         480|AIMEE GALDEZ OSTR...|   F|         2004|          RJ|     Rio de Janeiro|    2| 530,8|  614,1|  563,9| 585,3|   920|         1592,4|           614,1|          1691,7|         2341,2|           3680|        661,29|    738,23|          175|       N| PENDENTE|\n",
            "|2023|CENTRO FEDERAL DE...|    RJ|CEFET/RJ - UNIDAD...|       RJ|  Rio de Janeiro|CIÊNCIA DA COMPUT...|Bacharelado|Integral|       Semestral|                    A|Ampla concorrência|                   20|     3|      1|      3|     4|     4|          500|           400|           500|          500|          500|         480|ALBERTH TEIXEIRA ...|   M|         2001|          RJ|     Rio de Janeiro|    1| 620,3|  630,2|  553,2| 731,6|   660|         1860,9|           630,2|          1659,6|         2926,4|           2640|        647,81|    738,23|          210|       N| PENDENTE|\n",
            "|2023|CENTRO FEDERAL DE...|    RJ|CEFET/RJ - UNIDAD...|       RJ|  Rio de Janeiro|CIÊNCIA DA COMPUT...|Bacharelado|Integral|       Semestral|                    A|Ampla concorrência|                   20|     3|      1|      3|     4|     4|          500|           400|           500|          500|          500|         480|ALEXANDRE DE CASA...|   M|         2004|          RJ|     Rio de Janeiro|    2|   666|  674,5|  605,4| 730,6|   860|           1998|           674,5|          1816,2|         2922,4|           3440|        723,41|    738,23|           41|       N| PENDENTE|\n",
            "|2023|CENTRO FEDERAL DE...|    RJ|CEFET/RJ - UNIDAD...|       RJ|  Rio de Janeiro|CIÊNCIA DA COMPUT...|Bacharelado|Integral|       Semestral|                    A|Ampla concorrência|                   20|     3|      1|      3|     4|     4|          500|           400|           500|          500|          500|         480|ALEXANDRE HENRIQU...|   M|         1964|          RJ|     Rio de Janeiro|    2|   633|    709|    647|   742|   640|           1899|             709|            1941|           2968|           2560|         671,8|    738,23|          153|       N| PENDENTE|\n",
            "|2023|CENTRO FEDERAL DE...|    RJ|CEFET/RJ - UNIDAD...|       RJ|  Rio de Janeiro|CIÊNCIA DA COMPUT...|Bacharelado|Integral|       Semestral|                    A|Ampla concorrência|                   20|     3|      1|      3|     4|     4|          500|           400|           500|          500|          500|         480|ANA CLARA FERREIR...|   F|         2003|          RJ|     Rio de Janeiro|    1| 589,9|  578,4|  593,8| 659,4|   820|         1769,7|           578,4|          1781,4|         2637,6|           3280|        669,81|    738,23|          156|       N| PENDENTE|\n",
            "+----+--------------------+------+--------------------+---------+----------------+--------------------+-----------+--------+----------------+---------------------+------------------+---------------------+------+-------+-------+------+------+-------------+--------------+--------------+-------------+-------------+------------+--------------------+----+-------------+------------+-------------------+-----+------+-------+-------+------+------+---------------+----------------+----------------+---------------+---------------+--------------+----------+-------------+--------+---------+\n",
            "only showing top 5 rows\n",
            "\n"
          ]
        }
      ]
    },
    {
      "cell_type": "code",
      "source": [
        "base.select([count(when(col(c).isNull(), c)).alias(c) for c in base.columns]).show()"
      ],
      "metadata": {
        "colab": {
          "base_uri": "https://localhost:8080/"
        },
        "id": "BbF2xlor9BeG",
        "outputId": "7602bf10-b74b-4f38-c134-ccb3b309029a"
      },
      "execution_count": null,
      "outputs": [
        {
          "output_type": "stream",
          "name": "stdout",
          "text": [
            "+---+--------+------+-----------+---------+----------------+----------+----+-----+----------------+---------------------+----------------+---------------------+------+-------+-------+------+------+-------------+--------------+--------------+-------------+-------------+------------+--------+----+-------------+------------+-------------------+-----+------+-------+-------+------+------+---------------+----------------+----------------+---------------+---------------+--------------+----------+-------------+--------+---------+\n",
            "|ANO|NOME_IES|UF_IES|NOME_CAMPUS|UF_CAMPUS|MUNICIPIO_CAMPUS|NOME_CURSO|GRAU|TURNO|DS_PERIODICIDADE|TIPO_MOD_CONCORRENCIA|MOD_CONCORRENCIA|QT_VAGAS_CONCORRENCIA|PESO_L|PESO_CH|PESO_CN|PESO_M|PESO_R|NOTA_MINIMA_L|NOTA_MINIMA_CH|NOTA_MINIMA_CN|NOTA_MINIMA_M|NOTA_MINIMA_R|MEDIA_MINIMA|INSCRITO|SEXO|DT_NASCIMENTO|UF_CANDIDATO|MUNICIPIO_CANDIDATO|OPCAO|NOTA_L|NOTA_CH|NOTA_CN|NOTA_M|NOTA_R|NOTA_L_COM_PESO|NOTA_CH_COM_PESO|NOTA_CN_COM_PESO|NOTA_M_COM_PESO|NOTA_R_COM_PESO|NOTA_CANDIDATO|NOTA_CORTE|CLASSIFICACAO|APROVADO|MATRICULA|\n",
            "+---+--------+------+-----------+---------+----------------+----------+----+-----+----------------+---------------------+----------------+---------------------+------+-------+-------+------+------+-------------+--------------+--------------+-------------+-------------+------------+--------+----+-------------+------------+-------------------+-----+------+-------+-------+------+------+---------------+----------------+----------------+---------------+---------------+--------------+----------+-------------+--------+---------+\n",
            "|  0|       0|     0|          0|        0|               0|         0|   0|    0|               0|                    0|               0|                    0|     0|      0|      0|     0|     0|            0|             0|             0|            0|            0|           0|       0|   0|            0|           0|                  0|    0|     0|      0|      0|     0|     0|              0|               0|               0|              0|              0|             0|        87|         5116|       0|        0|\n",
            "+---+--------+------+-----------+---------+----------------+----------+----+-----+----------------+---------------------+----------------+---------------------+------+-------+-------+------+------+-------------+--------------+--------------+-------------+-------------+------------+--------+----+-------------+------------+-------------------+-----+------+-------+-------+------+------+---------------+----------------+----------------+---------------+---------------+--------------+----------+-------------+--------+---------+\n",
            "\n"
          ]
        }
      ]
    },
    {
      "cell_type": "code",
      "source": [
        "base.count()"
      ],
      "metadata": {
        "colab": {
          "base_uri": "https://localhost:8080/"
        },
        "id": "e3do-yStEPC8",
        "outputId": "0e7f137b-5651-476a-b417-184bfbb6fbe1"
      },
      "execution_count": null,
      "outputs": [
        {
          "output_type": "execute_result",
          "data": {
            "text/plain": [
              "225950"
            ]
          },
          "metadata": {},
          "execution_count": 38
        }
      ]
    },
    {
      "cell_type": "code",
      "source": [
        "base.filter((col('NOTA_CORTE').isNull()) ).select('NOTA_CORTE','CLASSIFICACAO').show()"
      ],
      "metadata": {
        "colab": {
          "base_uri": "https://localhost:8080/"
        },
        "id": "ouZZnyn9D7hA",
        "outputId": "6009b813-0eaf-4648-d35e-67f04f2e7dff"
      },
      "execution_count": null,
      "outputs": [
        {
          "output_type": "stream",
          "name": "stdout",
          "text": [
            "+----------+-------------+\n",
            "|NOTA_CORTE|CLASSIFICACAO|\n",
            "+----------+-------------+\n",
            "|      NULL|         NULL|\n",
            "|      NULL|            1|\n",
            "|      NULL|         NULL|\n",
            "|      NULL|            3|\n",
            "|      NULL|            1|\n",
            "|      NULL|            2|\n",
            "|      NULL|            2|\n",
            "|      NULL|         NULL|\n",
            "|      NULL|         NULL|\n",
            "|      NULL|         NULL|\n",
            "|      NULL|            1|\n",
            "|      NULL|            4|\n",
            "|      NULL|            3|\n",
            "|      NULL|            1|\n",
            "|      NULL|            2|\n",
            "|      NULL|            3|\n",
            "|      NULL|            1|\n",
            "|      NULL|            1|\n",
            "|      NULL|            1|\n",
            "|      NULL|         NULL|\n",
            "+----------+-------------+\n",
            "only showing top 20 rows\n",
            "\n"
          ]
        }
      ]
    },
    {
      "cell_type": "code",
      "source": [
        "base = base.dropna(subset=['CLASSIFICACAO', 'NOTA_CORTE'])"
      ],
      "metadata": {
        "id": "HgfijcszFuvx"
      },
      "execution_count": null,
      "outputs": []
    },
    {
      "cell_type": "code",
      "source": [
        "base.count()"
      ],
      "metadata": {
        "colab": {
          "base_uri": "https://localhost:8080/"
        },
        "id": "dLwONZoBFupz",
        "outputId": "579e309e-0b56-4bee-c64d-f1421480c72d"
      },
      "execution_count": null,
      "outputs": [
        {
          "output_type": "execute_result",
          "data": {
            "text/plain": [
              "220780"
            ]
          },
          "metadata": {},
          "execution_count": 41
        }
      ]
    },
    {
      "cell_type": "code",
      "source": [
        "base.filter((col('NOTA_CORTE').isNull()) ).select('NOTA_CORTE','CLASSIFICACAO').show()"
      ],
      "metadata": {
        "colab": {
          "base_uri": "https://localhost:8080/"
        },
        "id": "Jd5ziw2NF4Cj",
        "outputId": "5ec94ac0-e974-426a-e05c-8e571fe4f02b"
      },
      "execution_count": null,
      "outputs": [
        {
          "output_type": "stream",
          "name": "stdout",
          "text": [
            "+----------+-------------+\n",
            "|NOTA_CORTE|CLASSIFICACAO|\n",
            "+----------+-------------+\n",
            "+----------+-------------+\n",
            "\n"
          ]
        }
      ]
    },
    {
      "cell_type": "markdown",
      "source": [
        "## Salvar os dados no Google Drive"
      ],
      "metadata": {
        "id": "qcWgEvznL5Ca"
      }
    },
    {
      "cell_type": "code",
      "source": [
        "from google.colab import drive\n",
        "drive.mount('/content/drive')"
      ],
      "metadata": {
        "colab": {
          "base_uri": "https://localhost:8080/"
        },
        "id": "8qmknnjZnfI5",
        "outputId": "ace0b131-c7f6-48ee-cf15-6e771c43e5cf"
      },
      "execution_count": null,
      "outputs": [
        {
          "output_type": "stream",
          "name": "stdout",
          "text": [
            "Mounted at /content/drive\n"
          ]
        }
      ]
    },
    {
      "cell_type": "code",
      "source": [
        "d = base.toPandas()"
      ],
      "metadata": {
        "id": "hhgUhH4rn78C"
      },
      "execution_count": null,
      "outputs": []
    },
    {
      "cell_type": "code",
      "source": [
        "# Salvar no Google Drive\n",
        "# d.to_csv('/content/drive/MyDrive/RData_Projeto_ENEM_2023_2/Dados/sisu_transformado.csv', index=False)\n"
      ],
      "metadata": {
        "id": "fXVz7iJPLlOO"
      },
      "execution_count": null,
      "outputs": []
    }
  ]
}